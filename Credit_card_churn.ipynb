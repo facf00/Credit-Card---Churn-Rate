{
 "cells": [
  {
   "cell_type": "markdown",
   "id": "07a9add1",
   "metadata": {},
   "source": [
    "## Customer Churn Analysis"
   ]
  },
  {
   "cell_type": "markdown",
   "id": "dc8554e9",
   "metadata": {},
   "source": [
    "# The story Behind The Data\n",
    "A bank is concerned that more and more customers are leaving its credit card services. They would really appreciate if someone could analyze it for them, in order to understand the main reasons for leaving the services, and to come up with recommendations for how the bank can mitigate that. Eventually, the bank would like to proactively implement these recommendations in order to keep their customers happy."
   ]
  },
  {
   "cell_type": "markdown",
   "id": "760c7cbb",
   "metadata": {},
   "source": [
    "**A full ERD can be found [here](https://dbdiagram.io/d/638cdd8abae3ed7c45449eed)**\n",
    "\n",
    "# Data Description\n",
    "In this task, few datasets are provided:\n",
    "\n",
    "1. **`BankChurners.csv`**   - this file contains basic information about each client (10 columns). The columns are:\n",
    "    - `CLIENTNUM` - Client number. Unique identifier for the customer holding the account;\n",
    "    - `Attrition Flag` - Internal event (customer activity) variable - if the client had churned (attrited) or not (existing).\n",
    "    - `Dependent Count` - Demographic variable - Number of dependents\n",
    "    - `Card_Category` - Product Variable - Type of Card (Blue, Silver, Gold, Platinum)\n",
    "    - `Months_on_book` - Period of relationship with bank\n",
    "    - `Months_Inactive_12_mon` - No. of months inactive in the last 12 months\n",
    "    - `Contacts_Count_12_mon` - No. of Contacts in the last 12 months\n",
    "    - `Credit_Limit` - Credit Limit on the Credit Card\n",
    "    - `Avg_Open_To_Buy` - Open to Buy Credit Line (Average of last 12 months)\n",
    "    - `Avg_Utilization_Ratio` - Average Card Utilization Ratio\n",
    "    \n",
    "    \n",
    "2. **`basic_client_info.csv`** - this file contains some basic client info per each client\n",
    "(6 columns) -\n",
    "    - `CLIENTNUM` - Client number. Unique identifier for the customer holding the account\n",
    "    - `Customer Age` - Demographic variable - Customer's Age in Years\n",
    "    - `Gender` - Demographic variable - M=Male, F=Female\n",
    "    - `Education_Level` - Demographic variable - Educational Qualification of the account holder (example: high school, college graduate, etc.`\n",
    "    - `Marital_Status` - Demographic variable - Married, Single, Divorced, Unknown\n",
    "    - `Income_Category` - Demographic variable - Annual Income Category of the account holder (< $40K, $40K - 60K, $60K - $80K, $80K-$120K, > $120K, Unknown)\n",
    "    \n",
    "3. **`enriched_churn_data.csv`** - this file contains some enriched data about each client (7 columns) -\n",
    "    - `CLIENTNUM` - Client number. Unique identifier for the customer holding the account\n",
    "    - `Total_Relationship_Count` - Total no. of products held by the customer\n",
    "    - `Total_Revolving_Bal` - Total Revolving Balance on the Credit Card\n",
    "    - `Total_Amt_Chng_Q4_Q1` - Change in Transaction Amount (Q4 over Q1)\n",
    "    - `Total_Trans_Amt` - Total Transaction Amount (Last 12 months)\n",
    "    - `Total_Trans_Ct` - Total Transaction Count (Last 12 months)\n",
    "    - `Total_Ct_Chng_Q4_Q1` - Change in Transaction Count (Q4 over Q1)"
   ]
  },
  {
   "cell_type": "code",
   "execution_count": 1,
   "id": "73300f77",
   "metadata": {},
   "outputs": [],
   "source": [
    "# import necessary libraries\n",
    "import csv\n",
    "import matplotlib.pyplot as plt\n",
    "import numpy as np\n",
    "import pandas as pd\n",
    "import seaborn as sns\n",
    "import xgboost as xgb\n",
    "import plotly.express as px\n",
    "import plotly.io as pio\n",
    "import plotly.graph_objs as go\n",
    "pio.renderers.default = 'svg'\n",
    "from sklearn.model_selection import train_test_split\n",
    "from sklearn.metrics import accuracy_score\n",
    "from sklearn.linear_model import LogisticRegression\n",
    "from sklearn.metrics import classification_report\n",
    "from sklearn.model_selection import cross_val_score\n",
    "from sklearn.metrics import confusion_matrix\n",
    "from sklearn.metrics import accuracy_score, confusion_matrix, precision_score, recall_score, f1_score"
   ]
  },
  {
   "cell_type": "markdown",
   "id": "935aaa4d",
   "metadata": {},
   "source": [
    "### Data wrangling"
   ]
  },
  {
   "cell_type": "code",
   "execution_count": 2,
   "id": "584176d4",
   "metadata": {},
   "outputs": [],
   "source": [
    "# import from csv\n",
    "data0 = pd.read_csv('bankchurners.csv')\n",
    "data1 = pd.read_csv('enriched_churn_data.csv')\n",
    "data2 = pd.read_csv('basic_client_info.csv')"
   ]
  },
  {
   "cell_type": "code",
   "execution_count": 3,
   "id": "0937fa82",
   "metadata": {},
   "outputs": [],
   "source": [
    "# merge all tables\n",
    "data01 = pd.merge(data0, data1, on='clientnum')\n",
    "data = pd.merge(data01, data2, on='clientnum')\n",
    "df = pd.DataFrame(data=data)"
   ]
  },
  {
   "cell_type": "code",
   "execution_count": 4,
   "id": "37fe0795",
   "metadata": {},
   "outputs": [],
   "source": [
    "pd.set_option('max_colwidth', 10)\n",
    "pd.set_option('display.max_columns', 21)\n",
    "df.sample(10)"
   ]
  },
  {
   "cell_type": "code",
   "execution_count": 5,
   "id": "3a6ba484",
   "metadata": {},
   "outputs": [],
   "source": [
    "df.info()"
   ]
  },
  {
   "cell_type": "markdown",
   "id": "688cc208",
   "metadata": {},
   "source": [
    "### Data Cleaning"
   ]
  },
  {
   "cell_type": "code",
   "execution_count": 6,
   "id": "3f1fca24",
   "metadata": {},
   "outputs": [],
   "source": [
    "#make a copy\n",
    "df_clean = df.copy()"
   ]
  },
  {
   "cell_type": "code",
   "execution_count": 7,
   "id": "011838bd",
   "metadata": {},
   "outputs": [],
   "source": [
    "#check duplicates\n",
    "df_clean.duplicated().sum()"
   ]
  },
  {
   "cell_type": "code",
   "execution_count": 8,
   "id": "a68aa272",
   "metadata": {},
   "outputs": [],
   "source": [
    "#check nulls\n",
    "df_clean.attrition_flag.isna().sum()"
   ]
  },
  {
   "cell_type": "code",
   "execution_count": 9,
   "id": "b84ef5c7",
   "metadata": {},
   "outputs": [],
   "source": [
    "## Pre-processing"
   ]
  },
  {
   "cell_type": "code",
   "execution_count": 10,
   "id": "714ebd3c",
   "metadata": {},
   "outputs": [],
   "source": [
    "cat_cols = [c for c in df_clean.columns if df_clean[c].dtype == 'object']\n",
    "cat_cols               "
   ]
  },
  {
   "cell_type": "code",
   "execution_count": 11,
   "id": "81071099",
   "metadata": {},
   "outputs": [],
   "source": [
    "num_cols = [n for n in df_clean.columns if df_clean[n].dtype != 'object']\n",
    "num_cols  "
   ]
  },
  {
   "cell_type": "code",
   "execution_count": 12,
   "id": "c9ca6cc2",
   "metadata": {},
   "outputs": [],
   "source": [
    "df_clean[num_cols].describe()"
   ]
  },
  {
   "cell_type": "code",
   "execution_count": 13,
   "id": "e8f5e1b7",
   "metadata": {},
   "outputs": [],
   "source": [
    "df_clean.attrition_flag.value_counts()  #below the anual churning rate?"
   ]
  },
  {
   "cell_type": "code",
   "execution_count": 14,
   "id": "2ed25240",
   "metadata": {},
   "outputs": [],
   "source": [
    "# Define a dictionary mapping the categories to binary values\n",
    "dict_ch = {\n",
    "    'Existing Customer': 0,\n",
    "    'Attrited Customer': 1,\n",
    "}\n",
    "\n",
    "# Use the map() method to replace the values in the 'attrition_flag' column\n",
    "df_clean['churned'] = df_clean['attrition_flag'].map(dict_ch)"
   ]
  },
  {
   "cell_type": "code",
   "execution_count": 15,
   "id": "405305ed",
   "metadata": {},
   "outputs": [],
   "source": [
    "# Drop the original 'attrition_flag' column\n",
    "df_clean.drop('attrition_flag', axis=1, inplace=True)"
   ]
  },
  {
   "cell_type": "code",
   "execution_count": 16,
   "id": "1f37c7f3",
   "metadata": {},
   "outputs": [],
   "source": [
    "df_clean"
   ]
  },
  {
   "cell_type": "code",
   "execution_count": 17,
   "id": "b32cba2c",
   "metadata": {},
   "outputs": [],
   "source": [
    "# Calculate the percentage of churned customers\n",
    "num_churned = df_clean[df_clean[\"churned\"] == 1].shape[0]\n",
    "num_total = df_clean.shape[0]\n",
    "percent_churned = (num_churned / num_total) * 100\n",
    "\n",
    "# Format the result as a percentage\n",
    "print(\"Percentage of churned customers: {:.2f}%\".format(percent_churned))"
   ]
  },
  {
   "cell_type": "markdown",
   "id": "7359f289",
   "metadata": {},
   "source": [
    "#### Observations\n",
    "\n",
    "The annual churn rate for credit cards can vary greatly depending on the type of card and the target demographic. On average, it is common to see an annual churn rate of around 20% for credit cards. However, some high-end, premium credit cards may have a lower churn rate, while cards targeted towards subprime borrowers may have a higher churn rate.\n",
    "\n",
    "It's important to note that a lower churn rate is typically seen as a positive sign for a credit card issuer, as it indicates that customers are satisfied with the card and less likely to switch to a different one. On the other hand, a higher churn rate can indicate that customers are not satisfied with the card or are switching to a different one with more attractive terms.\n",
    "\n",
    "A preliminary overview of the dataset shows that around 83.93% of customers are active, while 16.07% have churned."
   ]
  },
  {
   "cell_type": "code",
   "execution_count": 18,
   "id": "b5dfd249",
   "metadata": {},
   "outputs": [],
   "source": [
    "#Convert 'attrition_flag'to boolean dtype\n",
    "dict_g = {\n",
    "    'F': ['Female'],\n",
    "    'M': [' Male'],\n",
    "}\n",
    "df_clean['gender'] = df_clean['gender']\n",
    "df_clean.replace({\"gender\": dict_g}, inplace=True)"
   ]
  },
  {
   "cell_type": "code",
   "execution_count": 19,
   "id": "63eeb1e7",
   "metadata": {},
   "outputs": [],
   "source": [
    "df.describe(include='object')"
   ]
  },
  {
   "cell_type": "code",
   "execution_count": 20,
   "id": "4bec8659",
   "metadata": {},
   "outputs": [],
   "source": [
    "df_clean.describe().loc[['min', 'max', 'mean']].round(2)"
   ]
  },
  {
   "cell_type": "code",
   "execution_count": 21,
   "id": "2135f280",
   "metadata": {},
   "outputs": [],
   "source": [
    "df_clean.info()"
   ]
  },
  {
   "cell_type": "code",
   "execution_count": 22,
   "id": "174f7bf2",
   "metadata": {},
   "outputs": [],
   "source": [
    "corr_matrix = df_clean.corr(numeric_only=True)\n",
    "\n",
    "fig = px.imshow(corr_matrix,\n",
    "color_continuous_scale='YlOrRd',\n",
    "aspect=\"auto\",\n",
    "title='Correlation Matrix')\n",
    "fig.update_traces(\n",
    "text=corr_matrix.round(2),\n",
    "texttemplate=\"%{text:.2f}\",\n",
    "textfont_size=12,\n",
    "hovertemplate=\n",
    "\"Feature 1: %{y}<br>Feature 2: %{x}<br>Correlation: %{text:.2f}<extra></extra>\",\n",
    "customdata=np.moveaxis(corr_matrix.values, 0, -1))\n",
    "fig.update_xaxes(tickangle=90, tickfont=dict(size=12), title=\"\")\n",
    "fig.update_yaxes(tickfont=dict(size=12), title=\"\")\n",
    "fig.update_coloraxes(showscale=True, colorbar=dict(len=0.4, y=0.75))\n",
    "fig.show()"
   ]
  },
  {
   "cell_type": "code",
   "execution_count": 23,
   "id": "8ecbb3be",
   "metadata": {},
   "outputs": [],
   "source": [
    "# filter for churned\n",
    "df_churned = df_clean[df_clean['churned'] == 1]\n",
    "\n",
    "corr_matrix = df_churned.corr(numeric_only=True)\n",
    "\n",
    "fig = px.imshow(corr_matrix,\n",
    "                color_continuous_scale='YlOrRd',\n",
    "                aspect=\"auto\",\n",
    "                title='Correlation Matrix for Churned')\n",
    "fig.update_traces(\n",
    "    text=corr_matrix.round(2),\n",
    "    texttemplate=\"%{text:.2f}\",\n",
    "    textfont_size=12,\n",
    "    hovertemplate=\n",
    "    \"Feature 1: %{y}<br>Feature 2: %{x}<br>Correlation: %{text:.2f}<extra></extra>\",\n",
    "    customdata=np.moveaxis(corr_matrix.values, 0, -1))\n",
    "fig.update_xaxes(tickangle=90, tickfont=dict(size=12), title=\"\")\n",
    "fig.update_yaxes(tickfont=dict(size=12), title=\"\")\n",
    "fig.update_coloraxes(showscale=True, colorbar=dict(len=0.4, y=0.75))\n",
    "fig.show()"
   ]
  },
  {
   "cell_type": "code",
   "execution_count": 24,
   "id": "a66fb7dc",
   "metadata": {},
   "outputs": [],
   "source": [
    "X = df_clean.drop('churned', axis=1)\n",
    "y = df_clean['churned']\n",
    "\n",
    "# One-hot encode categorical variables\n",
    "X_encoded = pd.get_dummies(X,\n",
    "                           columns=[\n",
    "                               'card_category', 'gender', 'education_level',\n",
    "                               'marital_status', 'income_category'\n",
    "                           ])\n",
    "\n",
    "# Split into training and testing sets\n",
    "X_train, X_test, y_train, y_test = train_test_split(X_encoded,\n",
    "                                                    y,\n",
    "                                                    test_size=0.2,\n",
    "                                                    random_state=42)\n",
    "\n",
    "# Train the XGBoost model\n",
    "xgb_model = xgb.XGBClassifier()\n",
    "xgb_model.fit(X_train, y_train)\n",
    "\n",
    "# Evaluate the model on the testing set\n",
    "y_pred = xgb_model.predict(X_test)\n",
    "accuracy = accuracy_score(y_test, y_pred)\n",
    "confusion_mat = confusion_matrix(y_test, y_pred)\n",
    "\n",
    "print('Accuracy:', accuracy)\n",
    "print('Confusion matrix:', confusion_mat)\n",
    "\n",
    "# Visualize the model's feature importances\n",
    "importances = pd.Series(xgb_model.feature_importances_,\n",
    "                        index=X_encoded.columns)\n",
    "importances_nonzero = importances[importances != 0].sort_values(ascending=True)\n",
    "\n",
    "# Create a horizontal bar chart of feature importances\n",
    "fig = go.Figure(\n",
    "    go.Bar(x=importances_nonzero.values,\n",
    "           y=importances_nonzero.index,\n",
    "           orientation='h'))\n",
    "\n",
    "fig.update_layout(title='Feature Importances (XGBoost)',\n",
    "                  xaxis_title='F score',\n",
    "                  yaxis_title='Feature')\n",
    "\n",
    "fig.show()"
   ]
  },
  {
   "cell_type": "code",
   "execution_count": 25,
   "id": "4d467bb0",
   "metadata": {},
   "outputs": [],
   "source": [
    "# Retrain the XGBoost model with the most important features\n",
    "important_features = importances_nonzero.tail(10).index.tolist()\n",
    "X_important = X_encoded[important_features]\n",
    "X_train_important, X_test_important, y_train, y_test = train_test_split(\n",
    "    X_important, y, test_size=0.2, random_state=42)\n",
    "xgb_model_important = xgb.XGBClassifier()\n",
    "xgb_model_important.fit(X_train_important, y_train)\n",
    "\n",
    "# Evaluate the model on the testing set\n",
    "y_pred = xgb_model_important.predict(X_test_important)\n",
    "accuracy = accuracy_score(y_test, y_pred)\n",
    "precision = precision_score(y_test, y_pred)\n",
    "recall = recall_score(y_test, y_pred)\n",
    "f1 = f1_score(y_test, y_pred)\n",
    "confusion_mat = confusion_matrix(y_test, y_pred)\n",
    "\n",
    "print('Accuracy:', accuracy)\n",
    "print('Precision:', precision)\n",
    "print('Recall:', recall)\n",
    "print('F1 Score:', f1)\n",
    "print('Confusion matrix:', confusion_mat)"
   ]
  },
  {
   "cell_type": "code",
   "execution_count": 26,
   "id": "081fc0f2",
   "metadata": {},
   "outputs": [],
   "source": [
    "# Create an XGBoost classifier with default hyperparameters\n",
    "clf = xgb.XGBClassifier()\n",
    "\n",
    "# Perform 5-fold cross-validation on the data\n",
    "scores = cross_val_score(clf, X_train, y_train, cv=5, scoring='f1')\n",
    "\n",
    "# Print the average F1 score across all folds\n",
    "print('Average F1 score:', scores.mean())"
   ]
  },
  {
   "cell_type": "code",
   "execution_count": 27,
   "id": "b6dc366b",
   "metadata": {},
   "outputs": [],
   "source": [
    "# initialize the logistic regression model\n",
    "lr_model = LogisticRegression()\n",
    "\n",
    "# train the model on the training data\n",
    "lr_model.fit(X_train, y_train)\n",
    "\n",
    "# make predictions on the testing data\n",
    "y_pred = lr_model.predict(X_test)\n",
    "\n",
    "# evaluate the model's performance\n",
    "print(classification_report(y_test, y_pred, zero_division=1))"
   ]
  },
  {
   "cell_type": "markdown",
   "id": "bf968dbf",
   "metadata": {},
   "source": [
    " - In the context of XGBoost, the F-score refers to the feature importance score calculated for each feature. The F-score is a measure of the total reduction in the impurity of the model when splitting on a particular feature. It is used to rank the importance of features in the model and can be used to identify the most relevant features for prediction. Features with higher F-scores are considered more important to the model."
   ]
  },
  {
   "cell_type": "code",
   "execution_count": 28,
   "id": "05b1961f",
   "metadata": {},
   "outputs": [],
   "source": [
    "# Create the DMatrix\n",
    "dmatrix = xgb.DMatrix(data=X_encoded, label=y)\n",
    "\n",
    "# Create the parameter dictionary: params\n",
    "params = {\"objective\": \"binary:logistic\", \"max_depth\": 2}\n",
    "\n",
    "# Train the model: xg_reg\n",
    "xg_reg = xgb.train(params=params, dtrain=dmatrix, num_boost_round=10)\n",
    "\n",
    "# Plot the first tree\n",
    "fig = plt.figure(figsize=(25, 20), dpi=300)\n",
    "xgb.plot_tree(xg_reg, num_trees=0, ax=plt.gca(), fontsize=14)\n",
    "plt.show()"
   ]
  },
  {
   "cell_type": "code",
   "execution_count": 29,
   "id": "bc30a862",
   "metadata": {},
   "outputs": [],
   "source": [
    "# Plot the fifth tree\n",
    "fig = plt.figure(figsize=(25, 20), dpi=300)\n",
    "xgb.plot_tree(xg_reg, num_trees=4, ax=plt.gca(), fontsize=14)\n",
    "plt.show()"
   ]
  },
  {
   "cell_type": "markdown",
   "id": "673f8ee7",
   "metadata": {},
   "source": [
    "### Economics"
   ]
  },
  {
   "cell_type": "code",
   "execution_count": 30,
   "id": "26f35979",
   "metadata": {},
   "outputs": [],
   "source": [
    "# Plot distribution of total transaction count by attrition flag\n",
    "plt.figure(figsize=(10, 6))\n",
    "sns.kdeplot(data=df_clean,\n",
    "            x='total_trans_ct',\n",
    "            hue='churned',\n",
    "            fill=True,\n",
    "            alpha=0.5,\n",
    "            palette='cool')\n",
    "plt.title('Distribution of Total Transaction Count by Attrition Flag')\n",
    "plt.xlabel('Total Transaction Count')\n",
    "plt.ylabel('Density')\n",
    "plt.show()"
   ]
  },
  {
   "cell_type": "code",
   "execution_count": 31,
   "id": "af388e63",
   "metadata": {},
   "outputs": [],
   "source": [
    "churned_trans_by_gender_age = df_clean[df_clean['churned'] == 1].groupby(\n",
    "    ['gender'])['total_trans_ct'].describe()\n",
    "pd.set_option('max_colwidth', 20)\n",
    "pd.set_option('display.max_columns', 10)\n",
    "churned_trans_by_gender_age"
   ]
  },
  {
   "cell_type": "code",
   "execution_count": 32,
   "id": "bbf1c088",
   "metadata": {},
   "outputs": [],
   "source": [
    "# Plot distribution of total revolving balance by attrition flag\n",
    "plt.figure(figsize=(10, 6), dpi=250)\n",
    "sns.kdeplot(data=df_clean,\n",
    "            x='total_revolving_bal',\n",
    "            hue='churned',\n",
    "            fill=True,\n",
    "            alpha=0.5,\n",
    "            palette='cool')\n",
    "plt.title('Distribution of Total Revolving Balance by Attrition Flag')\n",
    "plt.xlabel('Total Revolving Balance')\n",
    "plt.ylabel('Density')\n",
    "plt.show()"
   ]
  },
  {
   "cell_type": "code",
   "execution_count": 33,
   "id": "9c3eb04d",
   "metadata": {},
   "outputs": [],
   "source": [
    "churned_bal_by_gender_age = df_clean[df_clean['churned'] == 1].groupby(\n",
    "    ['gender'])['total_revolving_bal'].describe()\n",
    "pd.set_option('max_colwidth', 20)\n",
    "pd.set_option('display.max_columns', 10)\n",
    "churned_bal_by_gender_age"
   ]
  },
  {
   "cell_type": "code",
   "execution_count": 34,
   "id": "a05831a7",
   "metadata": {},
   "outputs": [],
   "source": [
    "# Plot distribution of total relationship count by attrition flag\n",
    "plt.figure(figsize=(10, 6), dpi=250)\n",
    "sns.kdeplot(data=df_clean,\n",
    "            x='total_relationship_count',\n",
    "            hue='churned',\n",
    "            fill=True,\n",
    "            alpha=0.5,\n",
    "            palette='cool')\n",
    "plt.title('Distribution of Total Relationship Count by Attrition Flag')\n",
    "plt.xlabel('Total Relationship Count')\n",
    "plt.ylabel('Density')\n",
    "plt.show()"
   ]
  },
  {
   "cell_type": "code",
   "execution_count": 35,
   "id": "c13f9f26",
   "metadata": {},
   "outputs": [],
   "source": [
    "churned_count_by_relationship = df_clean[df_clean['churned'] == 1].groupby(\n",
    "    ['total_relationship_count'])['clientnum'].count()\n",
    "churned_count_by_relationship.describe()"
   ]
  },
  {
   "cell_type": "code",
   "execution_count": 36,
   "id": "914e0006",
   "metadata": {},
   "outputs": [],
   "source": [
    "# Plot distribution of total transaction amount by attrition flag\n",
    "plt.figure(figsize=(10, 6), dpi=250)\n",
    "sns.kdeplot(data=df_clean,\n",
    "            x='total_trans_amt',\n",
    "            hue='churned',\n",
    "            fill=True,\n",
    "            alpha=0.5,\n",
    "            palette='cool')\n",
    "plt.title('Distribution of Total Transaction Amount by Attrition Flag')\n",
    "plt.xlabel('Total Transaction Amount')\n",
    "plt.ylabel('Density')\n",
    "plt.show()"
   ]
  },
  {
   "cell_type": "code",
   "execution_count": 37,
   "id": "6b9bf958",
   "metadata": {},
   "outputs": [],
   "source": [
    "churned_trans_by_gender_age = df_clean[df_clean['churned'] == 1].groupby(\n",
    "    ['gender'])['total_trans_amt'].describe()"
   ]
  },
  {
   "cell_type": "code",
   "execution_count": 38,
   "id": "af4ecaac",
   "metadata": {},
   "outputs": [],
   "source": [
    "pd.set_option('max_colwidth', 20)\n",
    "pd.set_option('display.max_columns', 10)\n",
    "churned_trans_by_gender_age"
   ]
  },
  {
   "cell_type": "code",
   "execution_count": 39,
   "id": "8d5d3094",
   "metadata": {},
   "outputs": [],
   "source": [
    "# Plot distribution of total count change by attrition flag\n",
    "plt.figure(figsize=(10, 6))\n",
    "sns.kdeplot(data=df_clean,\n",
    "            x='total_ct_chng_q4_q1',\n",
    "            hue='churned',\n",
    "            fill=True,\n",
    "            alpha=0.5,\n",
    "            palette='cool')\n",
    "plt.title('Distribution of Total Count Change by Attrition Flag')\n",
    "plt.xlabel('Total Count Change Q4-Q1')\n",
    "plt.ylabel('Density')\n",
    "plt.show()"
   ]
  },
  {
   "cell_type": "code",
   "execution_count": 40,
   "id": "cfe97748",
   "metadata": {},
   "outputs": [],
   "source": [
    "churned_total_ct_chng_q4_q1_by_gender = df_clean[\n",
    "    df_clean['churned'] == 1].groupby(['gender'\n",
    "                                       ])['total_ct_chng_q4_q1'].describe()\n",
    "pd.set_option('max_colwidth', 20)\n",
    "pd.set_option('display.max_columns', 10)\n",
    "churned_total_ct_chng_q4_q1_by_gender"
   ]
  },
  {
   "cell_type": "markdown",
   "id": "b03e065c",
   "metadata": {},
   "source": [
    "### Client Activity"
   ]
  },
  {
   "cell_type": "code",
   "execution_count": 41,
   "id": "f5339cf3",
   "metadata": {},
   "outputs": [],
   "source": [
    "# Set style\n",
    "sns.set_style('whitegrid')\n",
    "\n",
    "# Create distribution plot of contacts count by attrition flag\n",
    "plt.figure(figsize=(10, 6))\n",
    "sns.kdeplot(data=df_clean,\n",
    "            x='contacts_count_12_mon',\n",
    "            hue='churned',\n",
    "            fill=True,\n",
    "            alpha=0.5,\n",
    "            palette='cool')\n",
    "plt.title(\n",
    "    'Distribution of Contacts Count in the Last 12 Months by Attrition Flag')\n",
    "plt.xlabel('Contacts Count in the Last 12 Months')\n",
    "plt.ylabel('Density')\n",
    "plt.show()"
   ]
  },
  {
   "cell_type": "code",
   "execution_count": 42,
   "id": "32febdc4",
   "metadata": {},
   "outputs": [],
   "source": [
    "# Import libraries\n",
    "import matplotlib.pyplot as plt\n",
    "import seaborn as sns\n",
    "\n",
    "# Set style\n",
    "sns.set_style('whitegrid')\n",
    "\n",
    "# Create histogram of contacts count by attrition flag\n",
    "plt.figure(figsize=(10, 6))\n",
    "sns.histplot(data=df_clean,\n",
    "            x='contacts_count_12_mon',\n",
    "            hue='churned',\n",
    "            multiple='stack',\n",
    "            palette='cool')\n",
    "plt.title('Distribution of Contacts Count in the Last 12 Months by Attrition Flag')\n",
    "plt.xlabel('Contacts Count in the Last 12 Months')\n",
    "plt.ylabel('Count')\n",
    "plt.show()\n"
   ]
  },
  {
   "cell_type": "code",
   "execution_count": 43,
   "id": "fcbec2b4",
   "metadata": {},
   "outputs": [],
   "source": [
    "# Plot distribution of months on book by attrition flag\n",
    "plt.figure(figsize=(10, 6))\n",
    "sns.kdeplot(data=df_clean,\n",
    "            x='months_on_book',\n",
    "            hue='churned',\n",
    "            fill=True,\n",
    "            alpha=0.5,\n",
    "            palette='cool')\n",
    "plt.title('Distribution of Months on Book by Attrition Flag')\n",
    "plt.xlabel('Months on Book')\n",
    "plt.ylabel('Density')\n",
    "plt.show()"
   ]
  },
  {
   "cell_type": "markdown",
   "id": "cff307a7",
   "metadata": {},
   "source": [
    " - Customer retention: Since the mean number of months on the book is 36, we can assume that a significant proportion of the customers have been with the bank for a relatively long period of time. This could indicate that the bank has been successful in retaining its customers over a longer period of time."
   ]
  }
 ],
 "metadata": {
  "kernelspec": {
   "display_name": "Python 3 (ipykernel)",
   "language": "python",
   "name": "python3"
  },
  "language_info": {
   "codemirror_mode": {
    "name": "ipython",
    "version": 3
   },
   "file_extension": ".py",
   "mimetype": "text/x-python",
   "name": "python",
   "nbconvert_exporter": "python",
   "pygments_lexer": "ipython3",
   "version": "3.11.2"
  },
  "vscode": {
   "interpreter": {
    "hash": "31f2aee4e71d21fbe5cf8b01ff0e069b9275f58929596ceb00d14d90e3e16cd6"
   }
  }
 },
 "nbformat": 4,
 "nbformat_minor": 5
}
